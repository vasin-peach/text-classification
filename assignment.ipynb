{
 "cells": [
  {
   "cell_type": "markdown",
   "metadata": {},
   "source": [
    "# Web Scrape"
   ]
  },
  {
   "cell_type": "markdown",
   "metadata": {},
   "source": [
    "### Import Libraby & Init url"
   ]
  },
  {
   "cell_type": "code",
   "execution_count": 1,
   "metadata": {},
   "outputs": [],
   "source": [
    "import requests\n",
    "import urllib.request\n",
    "import pandas as pd\n",
    "import numpy as np\n",
    "from bs4 import BeautifulSoup\n",
    "import re\n",
    "\n",
    "# Model\n",
    "from sklearn.feature_extraction.text import CountVectorizer, TfidfTransformer\n",
    "from sklearn.datasets import load_files\n",
    "from sklearn.metrics import classification_report, confusion_matrix, accuracy_score, roc_curve, auc\n",
    "from sklearn.linear_model import SGDClassifier,LogisticRegression\n",
    "from sklearn.ensemble import RandomForestClassifier\n",
    "from sklearn.naive_bayes import MultinomialNB\n",
    "from sklearn.neighbors import KNeighborsClassifier\n",
    "from sklearn.feature_extraction import DictVectorizer\n",
    "from sklearn.model_selection import train_test_split, GridSearchCV, RandomizedSearchCV\n",
    "from nltk.stem import WordNetLemmatizer\n",
    "from nltk.corpus import stopwords\n",
    "\n",
    "# display progress bar (tqdm>=4.23.4 | pandas==0.24.0)\n",
    "from tqdm import tqdm_notebook as tqdm \n",
    "\n",
    "#evaluaitotn \n",
    "import seaborn as sn\n",
    "import matplotlib.pyplot as plt\n",
    "%matplotlib inline"
   ]
  },
  {
   "cell_type": "code",
   "execution_count": 3,
   "metadata": {},
   "outputs": [
    {
     "name": "stderr",
     "output_type": "stream",
     "text": [
      "[nltk_data] Downloading package wordnet to\n",
      "[nltk_data]     C:\\Users\\Win10\\AppData\\Roaming\\nltk_data...\n",
      "[nltk_data]   Package wordnet is already up-to-date!\n"
     ]
    },
    {
     "data": {
      "text/plain": [
       "True"
      ]
     },
     "execution_count": 3,
     "metadata": {},
     "output_type": "execute_result"
    }
   ],
   "source": [
    "# download word net\n",
    "import nltk\n",
    "nltk.download('wordnet')"
   ]
  },
  {
   "cell_type": "code",
   "execution_count": 4,
   "metadata": {},
   "outputs": [],
   "source": [
    "# init request\n",
    "baseUrl = \"http://www.it.kmitl.ac.th/~teerapong/news_archive\"\n",
    "homeUrl = \"http://www.it.kmitl.ac.th/~teerapong/news_archive/index.html\"\n",
    "response = requests.get(homeUrl)"
   ]
  },
  {
   "cell_type": "markdown",
   "metadata": {},
   "source": [
    "### Extract Month URL"
   ]
  },
  {
   "cell_type": "code",
   "execution_count": 5,
   "metadata": {},
   "outputs": [
    {
     "name": "stderr",
     "output_type": "stream",
     "text": [
      "C:\\Users\\Win10\\Anaconda3\\lib\\site-packages\\bs4\\__init__.py:177: UserWarning: You provided Unicode markup but also provided a value for from_encoding. Your from_encoding will be ignored.\n",
      "  warnings.warn(\"You provided Unicode markup but also provided a value for from_encoding. Your from_encoding will be ignored.\")\n"
     ]
    }
   ],
   "source": [
    "# parse html\n",
    "soup = BeautifulSoup(response.text, \"html.parser\", from_encoding=\"utf-8\")"
   ]
  },
  {
   "cell_type": "code",
   "execution_count": 6,
   "metadata": {},
   "outputs": [],
   "source": [
    "# create month url\n",
    "li_group = soup.findAll('li')\n",
    "month_url_group = [f\"{baseUrl}/{li.find('a')['href']}\" for li in li_group]"
   ]
  },
  {
   "cell_type": "markdown",
   "metadata": {},
   "source": [
    "### Extract Article Properties "
   ]
  },
  {
   "cell_type": "code",
   "execution_count": 22,
   "metadata": {},
   "outputs": [
    {
     "name": "stdout",
     "output_type": "stream",
     "text": [
      "Category: 1408\n",
      "Title: 1408\n",
      "Url: 1408\n"
     ]
    }
   ],
   "source": [
    "# use url each month to fetch article\n",
    "article_category = []\n",
    "article_title = []\n",
    "article_url = []\n",
    "\n",
    "for month in month_url_group: # loop each month \n",
    "\n",
    "    # init soup\n",
    "    month_resp = requests.get(month);\n",
    "    soup = BeautifulSoup(month_resp.text, \"html.parser\", from_encoding=\"utf-8\")\n",
    "    \n",
    "    # append category\n",
    "    category_group = soup.findAll('td', {'class': 'category'});\n",
    "    for category in category_group:\n",
    "        # article category not available -> skip\n",
    "        if category.getText().strip() == \"N/A\": continue\n",
    "        article_category.append(category.getText().strip())\n",
    "        \n",
    "    # append title & url\n",
    "    title_group = soup.findAll('td', {'class': 'title'});\n",
    "    for title in title_group:\n",
    "        # article title not available -> skip\n",
    "        if title.getText().strip() == \"Article no longer available in archive\": continue\n",
    "        article_title.append(title.getText().strip())\n",
    "        article_url.append(f\"{baseUrl}/{title.find('a')['href']}\")\n",
    "\n",
    "        \n",
    "# display article properties length (check length is match)\n",
    "print(\"Category: \" + str(len(article_category)))\n",
    "print(\"Title: \" + str(len(article_title)))\n",
    "print(\"Url: \" + str(len(article_url)))"
   ]
  },
  {
   "cell_type": "code",
   "execution_count": 25,
   "metadata": {},
   "outputs": [
    {
     "name": "stdout",
     "output_type": "stream",
     "text": [
      "technology\n",
      "sport\n",
      "business\n"
     ]
    }
   ],
   "source": [
    "#  list of category\n",
    "for i in set(article_category): print(i)"
   ]
  },
  {
   "cell_type": "markdown",
   "metadata": {},
   "source": [
    "### Extract Article Content"
   ]
  },
  {
   "cell_type": "code",
   "execution_count": 8,
   "metadata": {
    "scrolled": false
   },
   "outputs": [
    {
     "data": {
      "application/vnd.jupyter.widget-view+json": {
       "model_id": "2755e6357e7d4407bb6d62fe2fbd534f",
       "version_major": 2,
       "version_minor": 0
      },
      "text/plain": [
       "HBox(children=(IntProgress(value=0, max=1408), HTML(value='')))"
      ]
     },
     "metadata": {},
     "output_type": "display_data"
    },
    {
     "name": "stdout",
     "output_type": "stream",
     "text": [
      "\n",
      "Content: 1408\n"
     ]
    }
   ],
   "source": [
    "# use articule url to fetch article content\n",
    "article_content = []\n",
    "\n",
    "with tqdm(total=len(article_url)) as pbar: # init progress bar\n",
    "    \n",
    "\n",
    "    for article in article_url:  # loop each article\n",
    "\n",
    "        try: # catch content not avaliable\n",
    "            \n",
    "            article_resp = requests.get(article);\n",
    "            soup = BeautifulSoup(article_resp.text, \"html.parser\", from_encoding=\"utf-8\")\n",
    "            current_content = []\n",
    "\n",
    "            article_group = soup.findAll('p')\n",
    "            for content in article_group[:-1]:\n",
    "\n",
    "                # check <p> is empty?\n",
    "                if (content.text == \"\"): continue\n",
    "                current_content.append(content.text.rstrip(\"\\n\\r\"))\n",
    "\n",
    "            # join each <p> to raw string and append to article_content\n",
    "            article_content.append(''.join(current_content))\n",
    "            \n",
    "        except:\n",
    "            article_content.append(\"\")\n",
    "        \n",
    "        # update progress bar\n",
    "        pbar.update(1)\n",
    "\n",
    "# display article content length\n",
    "print(\"Content: \" + str(len(article_content)))"
   ]
  },
  {
   "cell_type": "markdown",
   "metadata": {},
   "source": [
    "### Write Files"
   ]
  },
  {
   "cell_type": "code",
   "execution_count": 8,
   "metadata": {},
   "outputs": [],
   "source": [
    "# write article_title.txt\n",
    "with open(\"./datastore/article_title.txt\", \"w\", encoding=\"utf-8\") as file:\n",
    "    for row in article_title:\n",
    "        file.write(\"%s\\n\" % row)\n",
    "    file.close()\n",
    "\n",
    "# write article_category.txt\n",
    "with open(\"./datastore/article_category.txt\", \"w\", encoding=\"utf-8\") as file:\n",
    "    for row in article_category:\n",
    "        file.write(\"%s\\n\" % row)\n",
    "    file.close()\n",
    "    \n",
    "# write article_content.txt\n",
    "with open(\"./datastore/article_content.txt\", \"w\", encoding=\"utf-8\") as file:\n",
    "    for row in article_content:\n",
    "        file.write(\"%s\\n\" % row)\n",
    "    file.close()"
   ]
  },
  {
   "cell_type": "markdown",
   "metadata": {},
   "source": [
    "### Read File\n",
    "you can skip scraping step by run these code"
   ]
  },
  {
   "cell_type": "code",
   "execution_count": 2,
   "metadata": {},
   "outputs": [],
   "source": [
    "# read article_title.txt\n",
    "with open(\"./datastore/article_title.txt\", \"r\", encoding=\"utf-8\") as file:\n",
    "    title_raw = file.read().splitlines()\n",
    "    file.close()\n",
    "    \n",
    "with open(\"./datastore/article_category.txt\", \"r\", encoding=\"utf-8\") as file:\n",
    "    category_raw = file.read().splitlines()\n",
    "    file.close()\n",
    "    \n",
    "# read article_title.txt\n",
    "with open(\"./datastore/article_content.txt\", \"r\", encoding=\"utf-8\") as file:\n",
    "    content_raw = file.read().splitlines()\n",
    "    file.close()"
   ]
  },
  {
   "cell_type": "code",
   "execution_count": 3,
   "metadata": {},
   "outputs": [],
   "source": [
    "# init article\n",
    "title_data = title_raw\n",
    "content_data = content_raw\n",
    "category_data = category_raw"
   ]
  },
  {
   "cell_type": "markdown",
   "metadata": {},
   "source": [
    "## Text Preprocessing\n",
    "- remove special charectors and numbers from text\n",
    "- convert charectos to lowercase\n",
    "- reduce word to root, base  \n",
    "\n",
    "- if you have error `IOPub data rate exceeded.` run notebook with `jupyter notebook --NotebookApp.iopub_data_rate_limit=1.0e10` in terminal"
   ]
  },
  {
   "cell_type": "code",
   "execution_count": 4,
   "metadata": {},
   "outputs": [
    {
     "name": "stdout",
     "output_type": "stream",
     "text": [
      "original: The sporting industry has come a long way since the â60s. It has carved out for itself a niche with its roots so deep that I cannot fathom the sports industry showing any sign of decline any time soon - or later.The reason can be found in this seemingly subtle difference - other industries have customers; the sporting industry has fans. Vivek RanadivÃ©, leader of the ownership group of the NBAâs Sacramento Kings, explained it beautifully, âFans will paint their face purple, fans will evangelize. ... Every other CEO in every business is dying to be in our position â theyâre dying to have fans.âWhile fan passion alone could almost certainly keep the industry going, leagues and sporting franchises have decided not to rest on their laurels. The last few years have seen the steady introduction of technology into the world of sports - amplifying fansâ appreciation of games, enhancing athletesâ public profiles and informing their training methods, even influencing how contests are waged.Also, digital technology in particular has helped to create an alternative source of revenue, besides the games themselves - corporate sponsorship. They achieved this by capitalizing on the ardor of their customer base - sorry, fan base.\n",
      "\n",
      "after process: the sporting industry ha come long way since the â 60 it ha carved out for itself niche with it root so deep that cannot fathom the sport industry showing any sign of decline any time soon or later the reason can be found in this seemingly subtle difference other industry have customer the sporting industry ha fan vivek ranadivã leader of the ownership group of the nbaâ sacramento king explained it beautifully â fan will paint their face purple fan will evangelize every other ceo in every business is dying to be in our position â theyâ re dying to have fan â while fan passion alone could almost certainly keep the industry going league and sporting franchise have decided not to rest on their laurel the last few year have seen the steady introduction of technology into the world of sport amplifying fansâ appreciation of game enhancing athletesâ public profile and informing their training method even influencing how contest are waged also digital technology in particular ha helped to create an alternative source of revenue besides the game themselves corporate sponsorship they achieved this by capitalizing on the ardor of their customer base sorry fan base\n"
     ]
    }
   ],
   "source": [
    "documents = []\n",
    "stemmer = WordNetLemmatizer()\n",
    "for content in content_data:\n",
    "    # remove all the special characters\n",
    "    document = re.sub(r'\\W', ' ', str(content))\n",
    "    \n",
    "    # remove all single characters\n",
    "    document = re.sub(r'\\s+[a-zA-Z]\\s+', ' ', document)\n",
    "    \n",
    "    # remove single characters from the start\n",
    "    document = re.sub(r'\\^[a-zA-Z]\\s+', ' ', document) \n",
    "    \n",
    "    # substituting multiple spaces with single space\n",
    "    document = re.sub(r'\\s+', ' ', document, flags=re.I)\n",
    "    \n",
    "    # Converting to Lowercase\n",
    "    document = document.lower()\n",
    "    \n",
    "    # Lemmatization\n",
    "    document = document.split()\n",
    "    document = [stemmer.lemmatize(word) for word in document]\n",
    "    document = ' '.join(document)\n",
    "    \n",
    "    documents.append(document)\n",
    "  \n",
    "# show example\n",
    "print(\"original: \" + content_data[0] + \"\\n\")\n",
    "print(\"after process: \" + documents[0])"
   ]
  },
  {
   "cell_type": "markdown",
   "metadata": {},
   "source": [
    "## Converting Text"
   ]
  },
  {
   "cell_type": "code",
   "execution_count": 5,
   "metadata": {
    "scrolled": true
   },
   "outputs": [],
   "source": [
    "# # Bag of words\n",
    "# vectorizer = CountVectorizer(max_features=1500, min_df=5, max_df=0.7, stop_words=stopwords.words('english'))\n",
    "# bow_process = vectorizer.fit_transform(documents).toarray()\n",
    "# # show stop words\n",
    "# vectorizer.stop_words[:10]"
   ]
  },
  {
   "cell_type": "markdown",
   "metadata": {},
   "source": [
    "#### TF (Term frequency )"
   ]
  },
  {
   "cell_type": "code",
   "execution_count": 22,
   "metadata": {},
   "outputs": [
    {
     "data": {
      "text/plain": [
       "(1408, 1500)"
      ]
     },
     "execution_count": 22,
     "metadata": {},
     "output_type": "execute_result"
    }
   ],
   "source": [
    "vectorizer = CountVectorizer(max_features=1500, min_df=5, max_df=0.7, stop_words=stopwords.words('english'))  # with bow\n",
    "\n",
    "# word counts for the words \n",
    "bow_process = vectorizer.fit_transform(documents).toarray()\n",
    "\n",
    "bow_process.shape # 1500 uniqe word "
   ]
  },
  {
   "cell_type": "code",
   "execution_count": 23,
   "metadata": {},
   "outputs": [
    {
     "data": {
      "text/plain": [
       "['i', 'me', 'my', 'myself', 'we', 'our', 'ours', 'ourselves', 'you', \"you're\"]"
      ]
     },
     "execution_count": 23,
     "metadata": {},
     "output_type": "execute_result"
    }
   ],
   "source": [
    "# stop words\n",
    "vectorizer.stop_words[:10]"
   ]
  },
  {
   "cell_type": "markdown",
   "metadata": {},
   "source": [
    "#### IDF (Inverse document frequency)"
   ]
  },
  {
   "cell_type": "code",
   "execution_count": 27,
   "metadata": {},
   "outputs": [],
   "source": [
    "tfidfconverter = TfidfTransformer(smooth_idf=True,use_idf=True)\n",
    "tfidf = tfidfconverter.fit_transform(bow_process).toarray()"
   ]
  },
  {
   "cell_type": "markdown",
   "metadata": {},
   "source": [
    "-"
   ]
  },
  {
   "cell_type": "markdown",
   "metadata": {},
   "source": [
    "## Test & Train Model\n",
    "- Random Forest\n",
    "- Naive Bayes"
   ]
  },
  {
   "cell_type": "code",
   "execution_count": 28,
   "metadata": {},
   "outputs": [],
   "source": [
    "X_train, X_test, y_train, y_test = train_test_split(tfidf, category_data, test_size=0.2, random_state=0)"
   ]
  },
  {
   "cell_type": "markdown",
   "metadata": {},
   "source": [
    "#### Random Forest Model"
   ]
  },
  {
   "cell_type": "code",
   "execution_count": 36,
   "metadata": {
    "scrolled": true
   },
   "outputs": [],
   "source": [
    "rf_clf = RandomForestClassifier(n_estimators=10, random_state=np.random)\n",
    "rf_clf.fit(X_train, y_train)\n",
    "rf_clf_predicted = rf_clf.predict(X_test)"
   ]
  },
  {
   "cell_type": "code",
   "execution_count": 37,
   "metadata": {},
   "outputs": [],
   "source": [
    "rf = RandomForestClassifier()"
   ]
  },
  {
   "cell_type": "markdown",
   "metadata": {},
   "source": [
    "#### tuning"
   ]
  },
  {
   "cell_type": "code",
   "execution_count": 40,
   "metadata": {},
   "outputs": [
    {
     "data": {
      "text/plain": [
       "{'n_estimators': [200, 400, 600, 800, 1000, 1200, 1400, 1600, 1800, 2000],\n",
       " 'max_features': ['auto', 'sqrt'],\n",
       " 'max_depth': [10, 20, 30, 40, 50, 60, 70, 80, 90, 100, 110, None],\n",
       " 'min_samples_split': [2, 5, 10],\n",
       " 'min_samples_leaf': [1, 2, 4],\n",
       " 'bootstrap': [True, False]}"
      ]
     },
     "execution_count": 40,
     "metadata": {},
     "output_type": "execute_result"
    }
   ],
   "source": [
    "# Number of trees in random forest\n",
    "n_estimators = [int(x) for x in np.linspace(start = 200, stop = 2000, num = 10)]\n",
    "# Number of features to consider at every split\n",
    "max_features = ['auto', 'sqrt']\n",
    "# Maximum number of levels in tree\n",
    "max_depth = [int(x) for x in np.linspace(10, 110, num = 11)]\n",
    "max_depth.append(None)\n",
    "# Minimum number of samples required to split a node\n",
    "min_samples_split = [2, 5, 10]\n",
    "# Minimum number of samples required at each leaf node\n",
    "min_samples_leaf = [1, 2, 4]\n",
    "# Method of selecting samples for training each tree\n",
    "bootstrap = [True, False]\n",
    "\n",
    "# Create the random grid\n",
    "random_grid = {'n_estimators': n_estimators,\n",
    "               'max_features': max_features,\n",
    "               'max_depth': max_depth,\n",
    "               'min_samples_split': min_samples_split,\n",
    "               'min_samples_leaf': min_samples_leaf,\n",
    "               'bootstrap': bootstrap}\n",
    "\n",
    "random_grid"
   ]
  },
  {
   "cell_type": "code",
   "execution_count": null,
   "metadata": {},
   "outputs": [],
   "source": [
    "rf_random = RandomizedSearchCV(estimator = rf, param_distributions = random_grid, n_iter = 50, cv = 3, verbose=5, random_state=42, n_jobs = -1)\n",
    "rf_random.fit(X_train, y_train)"
   ]
  },
  {
   "cell_type": "code",
   "execution_count": null,
   "metadata": {},
   "outputs": [],
   "source": [
    "# best params\n",
    "rf_random.best_params_"
   ]
  },
  {
   "cell_type": "code",
   "execution_count": null,
   "metadata": {},
   "outputs": [],
   "source": [
    "best_random = rf_random.best_estimator_"
   ]
  },
  {
   "cell_type": "code",
   "execution_count": 63,
   "metadata": {},
   "outputs": [
    {
     "name": "stdout",
     "output_type": "stream",
     "text": [
      "              precision    recall  f1-score   support\n",
      "\n",
      "    business       0.95      0.92      0.93        95\n",
      "       sport       0.90      0.96      0.93       108\n",
      "  technology       0.96      0.91      0.94        79\n",
      "\n",
      "    accuracy                           0.93       282\n",
      "   macro avg       0.94      0.93      0.93       282\n",
      "weighted avg       0.93      0.93      0.93       282\n",
      "\n",
      "0.9326241134751773\n"
     ]
    },
    {
     "data": {
      "text/plain": [
       "<matplotlib.axes._subplots.AxesSubplot at 0x228dd7fa940>"
      ]
     },
     "execution_count": 63,
     "metadata": {},
     "output_type": "execute_result"
    },
    {
     "data": {
      "image/png": "[encoded data removed]",
      "text/plain": [
       "<Figure size 720x504 with 2 Axes>"
      ]
     },
     "metadata": {
      "needs_background": "light"
     },
     "output_type": "display_data"
    }
   ],
   "source": [
    "print(classification_report(y_test,rf_clf_predicted))\n",
    "print(accuracy_score(y_test, rf_clf_predicted))\n",
    "\n",
    "data = confusion_matrix(y_test, rf_clf_predicted)\n",
    "df_cm = pd.DataFrame(data, columns=np.unique(y_test), index = np.unique(y_test))\n",
    "df_cm.index.name = 'Actual'\n",
    "df_cm.columns.name = 'Predicted'\n",
    "plt.figure(figsize = (10,7))\n",
    "sn.set(font_scale=1.4)#for label size\n",
    "sn.heatmap(df_cm, cmap=\"Blues\", annot=True,annot_kws={\"size\": 16})# font size"
   ]
  },
  {
   "cell_type": "markdown",
   "metadata": {},
   "source": [
    "#### Naive Bayes classifier "
   ]
  },
  {
   "cell_type": "code",
   "execution_count": 64,
   "metadata": {},
   "outputs": [],
   "source": [
    "# get predict model\n",
    "nb_clf = MultinomialNB()\n",
    "nb_clf.fit(X_train, y_train)\n",
    "nb_clf_predicted = nb_clf.predict(X_test)"
   ]
  },
  {
   "cell_type": "code",
   "execution_count": 65,
   "metadata": {},
   "outputs": [
    {
     "name": "stdout",
     "output_type": "stream",
     "text": [
      "              precision    recall  f1-score   support\n",
      "\n",
      "    business       0.97      0.96      0.96        95\n",
      "       sport       0.96      0.97      0.97       108\n",
      "  technology       0.97      0.97      0.97        79\n",
      "\n",
      "    accuracy                           0.97       282\n",
      "   macro avg       0.97      0.97      0.97       282\n",
      "weighted avg       0.97      0.97      0.97       282\n",
      "\n",
      "0.9680851063829787\n"
     ]
    },
    {
     "data": {
      "text/plain": [
       "<matplotlib.axes._subplots.AxesSubplot at 0x228dd993978>"
      ]
     },
     "execution_count": 65,
     "metadata": {},
     "output_type": "execute_result"
    },
    {
     "data": {
      "image/png": "[encoded data removed]",
      "text/plain": [
       "<Figure size 720x504 with 2 Axes>"
      ]
     },
     "metadata": {},
     "output_type": "display_data"
    }
   ],
   "source": [
    "print(classification_report(y_test,nb_clf_predicted))\n",
    "print(accuracy_score(y_test, nb_clf_predicted))\n",
    "\n",
    "data = confusion_matrix(y_test, nb_clf_predicted)\n",
    "df_cm = pd.DataFrame(data, columns=np.unique(y_test), index = np.unique(y_test))\n",
    "df_cm.index.name = 'Actual'\n",
    "df_cm.columns.name = 'Predicted'\n",
    "plt.figure(figsize = (10,7))\n",
    "sn.set(font_scale=1.4)#for label size\n",
    "sn.heatmap(df_cm, cmap=\"Blues\", annot=True,annot_kws={\"size\": 16})# font size"
   ]
  },
  {
   "cell_type": "markdown",
   "metadata": {},
   "source": [
    "#### Kneighbor classifier "
   ]
  },
  {
   "cell_type": "code",
   "execution_count": 12,
   "metadata": {},
   "outputs": [],
   "source": [
    "from sklearn import metrics ,  neighbors\n",
    "from matplotlib.colors import ListedColormap"
   ]
  },
  {
   "cell_type": "code",
   "execution_count": 18,
   "metadata": {},
   "outputs": [
    {
     "name": "stdout",
     "output_type": "stream",
     "text": [
      "Fitting 5 folds for each of 19 candidates, totalling 95 fits\n"
     ]
    },
    {
     "name": "stderr",
     "output_type": "stream",
     "text": [
      "[Parallel(n_jobs=1)]: Using backend SequentialBackend with 1 concurrent workers.\n"
     ]
    },
    {
     "name": "stdout",
     "output_type": "stream",
     "text": [
      "[CV] n_neighbors=1 ...................................................\n",
      "[CV] ....................... n_neighbors=1, score=0.577, total=   1.1s\n"
     ]
    },
    {
     "name": "stderr",
     "output_type": "stream",
     "text": [
      "[Parallel(n_jobs=1)]: Done   1 out of   1 | elapsed:    1.1s remaining:    0.0s\n"
     ]
    },
    {
     "name": "stdout",
     "output_type": "stream",
     "text": [
      "[CV] n_neighbors=1 ...................................................\n",
      "[CV] ....................... n_neighbors=1, score=0.491, total=   1.2s\n"
     ]
    },
    {
     "name": "stderr",
     "output_type": "stream",
     "text": [
      "[Parallel(n_jobs=1)]: Done   2 out of   2 | elapsed:    2.3s remaining:    0.0s\n"
     ]
    },
    {
     "name": "stdout",
     "output_type": "stream",
     "text": [
      "[CV] n_neighbors=1 ...................................................\n",
      "[CV] ....................... n_neighbors=1, score=0.618, total=   1.1s\n"
     ]
    },
    {
     "name": "stderr",
     "output_type": "stream",
     "text": [
      "[Parallel(n_jobs=1)]: Done   3 out of   3 | elapsed:    3.4s remaining:    0.0s\n"
     ]
    },
    {
     "name": "stdout",
     "output_type": "stream",
     "text": [
      "[CV] n_neighbors=1 ...................................................\n",
      "[CV] ....................... n_neighbors=1, score=0.598, total=   1.1s\n"
     ]
    },
    {
     "name": "stderr",
     "output_type": "stream",
     "text": [
      "[Parallel(n_jobs=1)]: Done   4 out of   4 | elapsed:    4.5s remaining:    0.0s\n"
     ]
    },
    {
     "name": "stdout",
     "output_type": "stream",
     "text": [
      "[CV] n_neighbors=1 ...................................................\n",
      "[CV] ....................... n_neighbors=1, score=0.571, total=   1.1s\n",
      "[CV] n_neighbors=2 ...................................................\n",
      "[CV] ....................... n_neighbors=2, score=0.546, total=   1.3s\n",
      "[CV] n_neighbors=2 ...................................................\n",
      "[CV] ....................... n_neighbors=2, score=0.500, total=   1.2s\n",
      "[CV] n_neighbors=2 ...................................................\n",
      "[CV] ....................... n_neighbors=2, score=0.556, total=   1.2s\n",
      "[CV] n_neighbors=2 ...................................................\n",
      "[CV] ....................... n_neighbors=2, score=0.549, total=   1.2s\n",
      "[CV] n_neighbors=2 ...................................................\n",
      "[CV] ....................... n_neighbors=2, score=0.478, total=   1.2s\n",
      "[CV] n_neighbors=3 ...................................................\n",
      "[CV] ....................... n_neighbors=3, score=0.564, total=   1.2s\n",
      "[CV] n_neighbors=3 ...................................................\n",
      "[CV] ....................... n_neighbors=3, score=0.527, total=   1.2s\n",
      "[CV] n_neighbors=3 ...................................................\n",
      "[CV] ....................... n_neighbors=3, score=0.578, total=   1.2s\n",
      "[CV] n_neighbors=3 ...................................................\n",
      "[CV] ....................... n_neighbors=3, score=0.527, total=   1.3s\n",
      "[CV] n_neighbors=3 ...................................................\n",
      "[CV] ....................... n_neighbors=3, score=0.482, total=   1.3s\n",
      "[CV] n_neighbors=4 ...................................................\n",
      "[CV] ....................... n_neighbors=4, score=0.665, total=   1.3s\n",
      "[CV] n_neighbors=4 ...................................................\n",
      "[CV] ....................... n_neighbors=4, score=0.522, total=   1.2s\n",
      "[CV] n_neighbors=4 ...................................................\n",
      "[CV] ....................... n_neighbors=4, score=0.609, total=   1.2s\n",
      "[CV] n_neighbors=4 ...................................................\n",
      "[CV] ....................... n_neighbors=4, score=0.522, total=   1.2s\n",
      "[CV] n_neighbors=4 ...................................................\n",
      "[CV] ....................... n_neighbors=4, score=0.469, total=   1.2s\n",
      "[CV] n_neighbors=5 ...................................................\n",
      "[CV] ....................... n_neighbors=5, score=0.524, total=   1.3s\n",
      "[CV] n_neighbors=5 ...................................................\n",
      "[CV] ....................... n_neighbors=5, score=0.465, total=   1.3s\n",
      "[CV] n_neighbors=5 ...................................................\n",
      "[CV] ....................... n_neighbors=5, score=0.587, total=   1.3s\n",
      "[CV] n_neighbors=5 ...................................................\n",
      "[CV] ....................... n_neighbors=5, score=0.522, total=   1.2s\n",
      "[CV] n_neighbors=5 ...................................................\n",
      "[CV] ....................... n_neighbors=5, score=0.763, total=   1.2s\n",
      "[CV] n_neighbors=6 ...................................................\n",
      "[CV] ....................... n_neighbors=6, score=0.815, total=   1.3s\n",
      "[CV] n_neighbors=6 ...................................................\n",
      "[CV] ....................... n_neighbors=6, score=0.491, total=   1.2s\n",
      "[CV] n_neighbors=6 ...................................................\n",
      "[CV] ....................... n_neighbors=6, score=0.640, total=   1.2s\n",
      "[CV] n_neighbors=6 ...................................................\n",
      "[CV] ....................... n_neighbors=6, score=0.536, total=   1.2s\n",
      "[CV] n_neighbors=6 ...................................................\n",
      "[CV] ....................... n_neighbors=6, score=0.763, total=   1.3s\n",
      "[CV] n_neighbors=7 ...................................................\n",
      "[CV] ....................... n_neighbors=7, score=0.952, total=   1.3s\n",
      "[CV] n_neighbors=7 ...................................................\n",
      "[CV] ....................... n_neighbors=7, score=0.447, total=   1.2s\n",
      "[CV] n_neighbors=7 ...................................................\n",
      "[CV] ....................... n_neighbors=7, score=0.804, total=   1.2s\n",
      "[CV] n_neighbors=7 ...................................................\n",
      "[CV] ....................... n_neighbors=7, score=0.496, total=   1.2s\n",
      "[CV] n_neighbors=7 ...................................................\n",
      "[CV] ....................... n_neighbors=7, score=0.955, total=   1.3s\n",
      "[CV] n_neighbors=8 ...................................................\n",
      "[CV] ....................... n_neighbors=8, score=0.943, total=   1.3s\n",
      "[CV] n_neighbors=8 ...................................................\n",
      "[CV] ....................... n_neighbors=8, score=0.735, total=   1.2s\n",
      "[CV] n_neighbors=8 ...................................................\n",
      "[CV] ....................... n_neighbors=8, score=0.769, total=   1.3s\n",
      "[CV] n_neighbors=8 ...................................................\n",
      "[CV] ....................... n_neighbors=8, score=0.763, total=   1.4s\n",
      "[CV] n_neighbors=8 ...................................................\n",
      "[CV] ....................... n_neighbors=8, score=0.938, total=   1.2s\n",
      "[CV] n_neighbors=9 ...................................................\n",
      "[CV] ....................... n_neighbors=9, score=0.969, total=   1.3s\n",
      "[CV] n_neighbors=9 ...................................................\n",
      "[CV] ....................... n_neighbors=9, score=0.912, total=   1.3s\n",
      "[CV] n_neighbors=9 ...................................................\n",
      "[CV] ....................... n_neighbors=9, score=0.969, total=   1.3s\n",
      "[CV] n_neighbors=9 ...................................................\n",
      "[CV] ....................... n_neighbors=9, score=0.763, total=   1.3s\n",
      "[CV] n_neighbors=9 ...................................................\n",
      "[CV] ....................... n_neighbors=9, score=0.955, total=   1.2s\n",
      "[CV] n_neighbors=10 ..................................................\n",
      "[CV] ...................... n_neighbors=10, score=0.965, total=   1.2s\n",
      "[CV] n_neighbors=10 ..................................................\n",
      "[CV] ...................... n_neighbors=10, score=0.894, total=   1.3s\n",
      "[CV] n_neighbors=10 ..................................................\n",
      "[CV] ...................... n_neighbors=10, score=0.973, total=   1.2s\n",
      "[CV] n_neighbors=10 ..................................................\n",
      "[CV] ...................... n_neighbors=10, score=0.951, total=   1.3s\n",
      "[CV] n_neighbors=10 ..................................................\n",
      "[CV] ...................... n_neighbors=10, score=0.942, total=   1.2s\n",
      "[CV] n_neighbors=11 ..................................................\n",
      "[CV] ...................... n_neighbors=11, score=0.965, total=   1.2s\n",
      "[CV] n_neighbors=11 ..................................................\n",
      "[CV] ...................... n_neighbors=11, score=0.907, total=   1.3s\n",
      "[CV] n_neighbors=11 ..................................................\n",
      "[CV] ...................... n_neighbors=11, score=0.973, total=   1.2s\n",
      "[CV] n_neighbors=11 ..................................................\n",
      "[CV] ...................... n_neighbors=11, score=0.946, total=   1.2s\n",
      "[CV] n_neighbors=11 ..................................................\n",
      "[CV] ...................... n_neighbors=11, score=0.951, total=   1.2s\n",
      "[CV] n_neighbors=12 ..................................................\n",
      "[CV] ...................... n_neighbors=12, score=0.965, total=   1.2s\n",
      "[CV] n_neighbors=12 ..................................................\n",
      "[CV] ...................... n_neighbors=12, score=0.920, total=   1.2s\n",
      "[CV] n_neighbors=12 ..................................................\n",
      "[CV] ...................... n_neighbors=12, score=0.969, total=   1.2s\n",
      "[CV] n_neighbors=12 ..................................................\n",
      "[CV] ...................... n_neighbors=12, score=0.951, total=   1.2s\n",
      "[CV] n_neighbors=12 ..................................................\n",
      "[CV] ...................... n_neighbors=12, score=0.946, total=   1.2s\n",
      "[CV] n_neighbors=13 ..................................................\n",
      "[CV] ...................... n_neighbors=13, score=0.969, total=   1.3s\n",
      "[CV] n_neighbors=13 ..................................................\n",
      "[CV] ...................... n_neighbors=13, score=0.925, total=   1.3s\n",
      "[CV] n_neighbors=13 ..................................................\n",
      "[CV] ...................... n_neighbors=13, score=0.969, total=   1.3s\n",
      "[CV] n_neighbors=13 ..................................................\n",
      "[CV] ...................... n_neighbors=13, score=0.942, total=   1.2s\n",
      "[CV] n_neighbors=13 ..................................................\n",
      "[CV] ...................... n_neighbors=13, score=0.969, total=   1.2s\n",
      "[CV] n_neighbors=14 ..................................................\n",
      "[CV] ...................... n_neighbors=14, score=0.965, total=   1.3s\n",
      "[CV] n_neighbors=14 ..................................................\n",
      "[CV] ...................... n_neighbors=14, score=0.929, total=   1.3s\n",
      "[CV] n_neighbors=14 ..................................................\n",
      "[CV] ...................... n_neighbors=14, score=0.964, total=   1.2s\n",
      "[CV] n_neighbors=14 ..................................................\n",
      "[CV] ...................... n_neighbors=14, score=0.960, total=   1.2s\n",
      "[CV] n_neighbors=14 ..................................................\n",
      "[CV] ...................... n_neighbors=14, score=0.955, total=   1.3s\n",
      "[CV] n_neighbors=15 ..................................................\n",
      "[CV] ...................... n_neighbors=15, score=0.965, total=   1.3s\n",
      "[CV] n_neighbors=15 ..................................................\n",
      "[CV] ...................... n_neighbors=15, score=0.938, total=   1.3s\n",
      "[CV] n_neighbors=15 ..................................................\n",
      "[CV] ...................... n_neighbors=15, score=0.969, total=   1.2s\n",
      "[CV] n_neighbors=15 ..................................................\n",
      "[CV] ...................... n_neighbors=15, score=0.951, total=   1.2s\n",
      "[CV] n_neighbors=15 ..................................................\n",
      "[CV] ...................... n_neighbors=15, score=0.955, total=   1.2s\n",
      "[CV] n_neighbors=16 ..................................................\n",
      "[CV] ...................... n_neighbors=16, score=0.952, total=   1.2s\n",
      "[CV] n_neighbors=16 ..................................................\n",
      "[CV] ...................... n_neighbors=16, score=0.938, total=   1.3s\n",
      "[CV] n_neighbors=16 ..................................................\n",
      "[CV] ...................... n_neighbors=16, score=0.964, total=   1.2s\n",
      "[CV] n_neighbors=16 ..................................................\n",
      "[CV] ...................... n_neighbors=16, score=0.955, total=   1.2s\n",
      "[CV] n_neighbors=16 ..................................................\n",
      "[CV] ...................... n_neighbors=16, score=0.955, total=   1.2s\n",
      "[CV] n_neighbors=17 ..................................................\n",
      "[CV] ...................... n_neighbors=17, score=0.965, total=   1.2s\n",
      "[CV] n_neighbors=17 ..................................................\n",
      "[CV] ...................... n_neighbors=17, score=0.951, total=   1.3s\n",
      "[CV] n_neighbors=17 ..................................................\n",
      "[CV] ...................... n_neighbors=17, score=0.969, total=   1.3s\n",
      "[CV] n_neighbors=17 ..................................................\n",
      "[CV] ...................... n_neighbors=17, score=0.951, total=   1.2s\n",
      "[CV] n_neighbors=17 ..................................................\n",
      "[CV] ...................... n_neighbors=17, score=0.955, total=   1.3s\n",
      "[CV] n_neighbors=18 ..................................................\n",
      "[CV] ...................... n_neighbors=18, score=0.952, total=   1.3s\n",
      "[CV] n_neighbors=18 ..................................................\n",
      "[CV] ...................... n_neighbors=18, score=0.956, total=   1.2s\n",
      "[CV] n_neighbors=18 ..................................................\n",
      "[CV] ...................... n_neighbors=18, score=0.969, total=   1.1s\n",
      "[CV] n_neighbors=18 ..................................................\n",
      "[CV] ...................... n_neighbors=18, score=0.955, total=   1.3s\n",
      "[CV] n_neighbors=18 ..................................................\n",
      "[CV] ...................... n_neighbors=18, score=0.951, total=   1.3s\n",
      "[CV] n_neighbors=19 ..................................................\n",
      "[CV] ...................... n_neighbors=19, score=0.956, total=   1.5s\n",
      "[CV] n_neighbors=19 ..................................................\n",
      "[CV] ...................... n_neighbors=19, score=0.942, total=   1.3s\n",
      "[CV] n_neighbors=19 ..................................................\n",
      "[CV] ...................... n_neighbors=19, score=0.969, total=   1.3s\n",
      "[CV] n_neighbors=19 ..................................................\n",
      "[CV] ...................... n_neighbors=19, score=0.969, total=   1.4s\n",
      "[CV] n_neighbors=19 ..................................................\n",
      "[CV] ...................... n_neighbors=19, score=0.951, total=   1.2s\n"
     ]
    },
    {
     "name": "stderr",
     "output_type": "stream",
     "text": [
      "[Parallel(n_jobs=1)]: Done  95 out of  95 | elapsed:  2.0min finished\n",
      "C:\\Users\\Win10\\Anaconda3\\lib\\site-packages\\sklearn\\model_selection\\_search.py:813: DeprecationWarning: The default of the `iid` parameter will change from True to False in version 0.22 and will be removed in 0.24. This will change numeric results when test-set sizes are unequal.\n",
      "  DeprecationWarning)\n"
     ]
    }
   ],
   "source": [
    "knn = KNeighborsClassifier()\n",
    "\n",
    "# init range to tuning\n",
    "params_knn = {'n_neighbors': np.arange(1, 20)}\n",
    "\n",
    "# use gridsearch to test all values for n_neighbors (tuning)\n",
    "knn_gs = GridSearchCV(knn, params_knn, cv=5, verbose=5) # cross-validate with 5\n",
    "\n",
    "# fit model to training data\n",
    "knn_gs.fit(X_train, y_train)\n",
    "# get best n_neigbors value\n",
    "knn_best = knn_gs.best_estimator_"
   ]
  },
  {
   "cell_type": "code",
   "execution_count": 19,
   "metadata": {},
   "outputs": [
    {
     "data": {
      "text/plain": [
       "{'n_neighbors': 17}"
      ]
     },
     "execution_count": 19,
     "metadata": {},
     "output_type": "execute_result"
    }
   ],
   "source": [
    "knn_gs.best_params_"
   ]
  },
  {
   "cell_type": "code",
   "execution_count": 20,
   "metadata": {},
   "outputs": [],
   "source": [
    "kn_clf = KNeighborsClassifier(n_neighbors=knn_gs.best_params_['n_neighbors']) \n",
    "kn_clf.fit(X_train, y_train)\n",
    "kn_predicted = kn_clf.predict(X_test)"
   ]
  },
  {
   "cell_type": "code",
   "execution_count": 21,
   "metadata": {},
   "outputs": [
    {
     "name": "stdout",
     "output_type": "stream",
     "text": [
      "              precision    recall  f1-score   support\n",
      "\n",
      "    business       0.96      0.97      0.96        95\n",
      "       sport       0.98      0.96      0.97       108\n",
      "  technology       0.96      0.97      0.97        79\n",
      "\n",
      "    accuracy                           0.97       282\n",
      "   macro avg       0.97      0.97      0.97       282\n",
      "weighted avg       0.97      0.97      0.97       282\n",
      "\n",
      "0.9680851063829787\n"
     ]
    },
    {
     "data": {
      "text/plain": [
       "<matplotlib.axes._subplots.AxesSubplot at 0x1bd29cf59b0>"
      ]
     },
     "execution_count": 21,
     "metadata": {},
     "output_type": "execute_result"
    },
    {
     "data": {
      "image/png": "[encoded data removed]",
      "text/plain": [
       "<Figure size 720x504 with 2 Axes>"
      ]
     },
     "metadata": {},
     "output_type": "display_data"
    }
   ],
   "source": [
    "print(classification_report(y_test,kn_predicted))\n",
    "print(accuracy_score(y_test, kn_predicted))\n",
    "\n",
    "data = confusion_matrix(y_test, kn_predicted)\n",
    "df_cm = pd.DataFrame(data, columns=np.unique(y_test), index = np.unique(y_test))\n",
    "df_cm.index.name = 'Actual'\n",
    "df_cm.columns.name = 'Predicted'\n",
    "plt.figure(figsize = (10,7))\n",
    "sn.set(font_scale=1.4)#for label size\n",
    "sn.heatmap(df_cm, cmap=\"Blues\", annot=True,annot_kws={\"size\": 16})# font size"
   ]
  },
  {
   "cell_type": "markdown",
   "metadata": {},
   "source": [
    "## SGDClassifier "
   ]
  },
  {
   "cell_type": "code",
   "execution_count": 322,
   "metadata": {},
   "outputs": [],
   "source": [
    "sgd_clf = SGDClassifier()\n",
    "sgd_clf.fit(X_train, y_train)\n",
    "sgd_predicted = sgd_clf.predict(X_test)"
   ]
  },
  {
   "cell_type": "code",
   "execution_count": 323,
   "metadata": {},
   "outputs": [
    {
     "name": "stdout",
     "output_type": "stream",
     "text": [
      "              precision    recall  f1-score   support\n",
      "\n",
      "    business       0.97      0.97      0.97        95\n",
      "       sport       0.97      0.97      0.97       108\n",
      "  technology       0.99      0.99      0.99        79\n",
      "\n",
      "    accuracy                           0.98       282\n",
      "   macro avg       0.98      0.98      0.98       282\n",
      "weighted avg       0.98      0.98      0.98       282\n",
      "\n",
      "0.975177304964539\n"
     ]
    },
    {
     "data": {
      "text/plain": [
       "<matplotlib.axes._subplots.AxesSubplot at 0x1a5034f3a20>"
      ]
     },
     "execution_count": 323,
     "metadata": {},
     "output_type": "execute_result"
    },
    {
     "data": {
      "image/png": "[encoded data removed]",
      "text/plain": [
       "<Figure size 720x504 with 2 Axes>"
      ]
     },
     "metadata": {},
     "output_type": "display_data"
    }
   ],
   "source": [
    "print(classification_report(y_test,sgd_predicted))\n",
    "print(accuracy_score(y_test, sgd_predicted))\n",
    "\n",
    "data = confusion_matrix(y_test, sgd_predicted)\n",
    "df_cm = pd.DataFrame(data, columns=np.unique(y_test), index = np.unique(y_test))\n",
    "df_cm.index.name = 'Actual'\n",
    "df_cm.columns.name = 'Predicted'\n",
    "plt.figure(figsize = (10,7))\n",
    "sn.set(font_scale=1.4)#for label size\n",
    "sn.heatmap(df_cm, cmap=\"Blues\", annot=True,annot_kws={\"size\": 16})# font size"
   ]
  },
  {
   "cell_type": "code",
   "execution_count": 324,
   "metadata": {},
   "outputs": [
    {
     "name": "stderr",
     "output_type": "stream",
     "text": [
      "C:\\Users\\Win10\\Anaconda3\\lib\\site-packages\\sklearn\\linear_model\\logistic.py:432: FutureWarning: Default solver will be changed to 'lbfgs' in 0.22. Specify a solver to silence this warning.\n",
      "  FutureWarning)\n",
      "C:\\Users\\Win10\\Anaconda3\\lib\\site-packages\\sklearn\\linear_model\\logistic.py:469: FutureWarning: Default multi_class will be changed to 'auto' in 0.22. Specify the multi_class option to silence this warning.\n",
      "  \"this warning.\", FutureWarning)\n"
     ]
    }
   ],
   "source": [
    "lr_clf = LogisticRegression()\n",
    "lr_clf.fit(X_train, y_train)\n",
    "lr_clf_predicted = lr_clf.predict(X_test)"
   ]
  },
  {
   "cell_type": "code",
   "execution_count": 325,
   "metadata": {},
   "outputs": [
    {
     "name": "stdout",
     "output_type": "stream",
     "text": [
      "              precision    recall  f1-score   support\n",
      "\n",
      "    business       0.96      0.99      0.97        95\n",
      "       sport       0.99      0.96      0.98       108\n",
      "  technology       0.99      0.99      0.99        79\n",
      "\n",
      "    accuracy                           0.98       282\n",
      "   macro avg       0.98      0.98      0.98       282\n",
      "weighted avg       0.98      0.98      0.98       282\n",
      "\n",
      "0.9787234042553191\n"
     ]
    },
    {
     "ename": "NameError",
     "evalue": "name 'lr_clf_predictedz' is not defined",
     "output_type": "error",
     "traceback": [
      "\u001b[1;31m---------------------------------------------------------------------------\u001b[0m",
      "\u001b[1;31mNameError\u001b[0m                                 Traceback (most recent call last)",
      "\u001b[1;32m<ipython-input-325-7c75cd3b6389>\u001b[0m in \u001b[0;36m<module>\u001b[1;34m\u001b[0m\n\u001b[0;32m      2\u001b[0m \u001b[0mprint\u001b[0m\u001b[1;33m(\u001b[0m\u001b[0maccuracy_score\u001b[0m\u001b[1;33m(\u001b[0m\u001b[0my_test\u001b[0m\u001b[1;33m,\u001b[0m \u001b[0mlr_clf_predicted\u001b[0m\u001b[1;33m)\u001b[0m\u001b[1;33m)\u001b[0m\u001b[1;33m\u001b[0m\u001b[1;33m\u001b[0m\u001b[0m\n\u001b[0;32m      3\u001b[0m \u001b[1;33m\u001b[0m\u001b[0m\n\u001b[1;32m----> 4\u001b[1;33m \u001b[0mdata\u001b[0m \u001b[1;33m=\u001b[0m \u001b[0mconfusion_matrix\u001b[0m\u001b[1;33m(\u001b[0m\u001b[0my_test\u001b[0m\u001b[1;33m,\u001b[0m \u001b[0mlr_clf_predictedz\u001b[0m\u001b[1;33m)\u001b[0m\u001b[1;33m\u001b[0m\u001b[1;33m\u001b[0m\u001b[0m\n\u001b[0m\u001b[0;32m      5\u001b[0m \u001b[0mdf_cm\u001b[0m \u001b[1;33m=\u001b[0m \u001b[0mpd\u001b[0m\u001b[1;33m.\u001b[0m\u001b[0mDataFrame\u001b[0m\u001b[1;33m(\u001b[0m\u001b[0mdata\u001b[0m\u001b[1;33m,\u001b[0m \u001b[0mcolumns\u001b[0m\u001b[1;33m=\u001b[0m\u001b[0mnp\u001b[0m\u001b[1;33m.\u001b[0m\u001b[0munique\u001b[0m\u001b[1;33m(\u001b[0m\u001b[0my_test\u001b[0m\u001b[1;33m)\u001b[0m\u001b[1;33m,\u001b[0m \u001b[0mindex\u001b[0m \u001b[1;33m=\u001b[0m \u001b[0mnp\u001b[0m\u001b[1;33m.\u001b[0m\u001b[0munique\u001b[0m\u001b[1;33m(\u001b[0m\u001b[0my_test\u001b[0m\u001b[1;33m)\u001b[0m\u001b[1;33m)\u001b[0m\u001b[1;33m\u001b[0m\u001b[1;33m\u001b[0m\u001b[0m\n\u001b[0;32m      6\u001b[0m \u001b[0mdf_cm\u001b[0m\u001b[1;33m.\u001b[0m\u001b[0mindex\u001b[0m\u001b[1;33m.\u001b[0m\u001b[0mname\u001b[0m \u001b[1;33m=\u001b[0m \u001b[1;34m'Actual'\u001b[0m\u001b[1;33m\u001b[0m\u001b[1;33m\u001b[0m\u001b[0m\n",
      "\u001b[1;31mNameError\u001b[0m: name 'lr_clf_predictedz' is not defined"
     ]
    }
   ],
   "source": [
    "print(classification_report(y_test,lr_clf_predicted))\n",
    "print(accuracy_score(y_test, lr_clf_predicted))\n",
    "\n",
    "data = confusion_matrix(y_test, lr_clf_predictedz)\n",
    "df_cm = pd.DataFrame(data, columns=np.unique(y_test), index = np.unique(y_test))\n",
    "df_cm.index.name = 'Actual'\n",
    "df_cm.columns.name = 'Predicted'\n",
    "plt.figure(figsize = (10,7))\n",
    "sn.set(font_scale=1.4)#for label size\n",
    "sn.heatmap(df_cm, cmap=\"Blues\", annot=True,annot_kws={\"size\": 16})# font size"
   ]
  },
  {
   "cell_type": "code",
   "execution_count": null,
   "metadata": {},
   "outputs": [],
   "source": []
  }
 ],
 "metadata": {
  "kernelspec": {
   "display_name": "Python 3",
   "language": "python",
   "name": "python3"
  },
  "language_info": {
   "codemirror_mode": {
    "name": "ipython",
    "version": 3
   },
   "file_extension": ".py",
   "mimetype": "text/x-python",
   "name": "python",
   "nbconvert_exporter": "python",
   "pygments_lexer": "ipython3",
   "version": "3.7.3"
  }
 },
 "nbformat": 4,
 "nbformat_minor": 2
}
